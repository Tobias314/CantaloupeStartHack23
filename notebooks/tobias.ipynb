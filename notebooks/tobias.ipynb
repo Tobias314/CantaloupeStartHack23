{
 "cells": [
  {
   "cell_type": "code",
   "execution_count": 1,
   "id": "7e49e594-2fad-416f-ae8b-229c9e9fdceb",
   "metadata": {
    "tags": []
   },
   "outputs": [],
   "source": [
    "%load_ext autoreload\n",
    "%autoreload 2"
   ]
  },
  {
   "cell_type": "code",
   "execution_count": 2,
   "id": "3a455a44-461c-4625-9548-c522bc5337d4",
   "metadata": {
    "tags": []
   },
   "outputs": [],
   "source": [
    "from sys import path\n",
    "path.append('../')"
   ]
  },
  {
   "cell_type": "code",
   "execution_count": 98,
   "id": "8add9955-c50e-4584-8cf4-ef6ba72dad7a",
   "metadata": {
    "tags": []
   },
   "outputs": [],
   "source": [
    "import seaborn as sb\n",
    "import numpy as np\n",
    "import pandas as pd"
   ]
  },
  {
   "cell_type": "code",
   "execution_count": 33,
   "id": "972ad65a-4d9c-4aa3-be06-76882541f293",
   "metadata": {
    "tags": []
   },
   "outputs": [],
   "source": [
    "from utils.loading import load_data\n",
    "from utils.protocol_creation import summarize_alliance\n",
    "from utils.ai_summary import create_chatgpt_prompt"
   ]
  },
  {
   "cell_type": "code",
   "execution_count": 7,
   "id": "f7bda78a-5dd1-4be7-9495-e9f3e3d91064",
   "metadata": {
    "tags": []
   },
   "outputs": [],
   "source": [
    "import scipy\n",
    "from tqdm.auto import tqdm"
   ]
  },
  {
   "cell_type": "code",
   "execution_count": 107,
   "id": "80588de2-5602-488b-b122-5e08e9a9153e",
   "metadata": {
    "tags": []
   },
   "outputs": [
    {
     "name": "stderr",
     "output_type": "stream",
     "text": [
      "/home/tobi/development/start_hack_2023/notebooks/../utils/loading.py:16: DtypeWarning: Columns (6) have mixed types. Specify dtype option on import or set low_memory=False.\n",
      "  messages2 = pd.read_csv(path /'chat_messages_2_fixed.csv')\n"
     ]
    }
   ],
   "source": [
    "data = load_data('../data')"
   ]
  },
  {
   "cell_type": "code",
   "execution_count": 44,
   "id": "8f58c44b-ba99-4a8a-9c39-c1870af1756c",
   "metadata": {
    "tags": []
   },
   "outputs": [],
   "source": [
    "racist_alliance_id = '5bb44180ae3a20f38b38d07a3b987c3e55945f6c2d501338e53ff577221e8329'\n",
    "bully_joiner_alliance_id = 'bc4c1c692638efa4a9ff139e82e87e9d79d247816350840197d3f0a7ef6d1ba7'"
   ]
  },
  {
   "cell_type": "code",
   "execution_count": 45,
   "id": "c41e89bb-2a38-47a2-9b02-b24990c9606b",
   "metadata": {
    "tags": []
   },
   "outputs": [
    {
     "name": "stdout",
     "output_type": "stream",
     "text": [
      "User: 5f8f06982f01b39f5cf2 | 0.0$/0.0$ | 0.06h 20.36h | 19.0lvl | since 902 days | risk mean 1.0\n"
     ]
    },
    {
     "name": "stderr",
     "output_type": "stream",
     "text": [
      "/home/tobi/development/start_hack_2023/notebooks/../utils/protocol_creation.py:8: SettingWithCopyWarning: \n",
      "A value is trying to be set on a copy of a slice from a DataFrame.\n",
      "Try using .loc[row_indexer,col_indexer] = value instead\n",
      "\n",
      "See the caveats in the documentation: https://pandas.pydata.org/pandas-docs/stable/user_guide/indexing.html#returning-a-view-versus-a-copy\n",
      "  alliance_messages['content'] = alliance_messages['raw_message']\n",
      "/home/tobi/development/start_hack_2023/notebooks/../utils/protocol_creation.py:9: SettingWithCopyWarning: \n",
      "A value is trying to be set on a copy of a slice from a DataFrame.\n",
      "Try using .loc[row_indexer,col_indexer] = value instead\n",
      "\n",
      "See the caveats in the documentation: https://pandas.pydata.org/pandas-docs/stable/user_guide/indexing.html#returning-a-view-versus-a-copy\n",
      "  alliance_messages['type'] = \"Chat|\" + alliance_messages['account_id'].str[:3]\n"
     ]
    }
   ],
   "source": [
    "alliance_summary = summarize_alliance(data, racist_alliance_id)"
   ]
  },
  {
   "cell_type": "code",
   "execution_count": 46,
   "id": "b9720431-9122-4f5b-a380-68699524498a",
   "metadata": {
    "tags": []
   },
   "outputs": [
    {
     "data": {
      "text/html": [
       "<div>\n",
       "<style scoped>\n",
       "    .dataframe tbody tr th:only-of-type {\n",
       "        vertical-align: middle;\n",
       "    }\n",
       "\n",
       "    .dataframe tbody tr th {\n",
       "        vertical-align: top;\n",
       "    }\n",
       "\n",
       "    .dataframe thead th {\n",
       "        text-align: right;\n",
       "    }\n",
       "</style>\n",
       "<table border=\"1\" class=\"dataframe\">\n",
       "  <thead>\n",
       "    <tr style=\"text-align: right;\">\n",
       "      <th></th>\n",
       "      <th>content</th>\n",
       "      <th>type</th>\n",
       "    </tr>\n",
       "  </thead>\n",
       "  <tbody>\n",
       "    <tr>\n",
       "      <th>42300</th>\n",
       "      <td>This clan so bad</td>\n",
       "      <td>Chat|5f8</td>\n",
       "    </tr>\n",
       "    <tr>\n",
       "      <th>3820</th>\n",
       "      <td>kicked_out</td>\n",
       "      <td>Action|5f8</td>\n",
       "    </tr>\n",
       "    <tr>\n",
       "      <th>65040</th>\n",
       "      <td>bitch</td>\n",
       "      <td>Chat|468</td>\n",
       "    </tr>\n",
       "    <tr>\n",
       "      <th>153376</th>\n",
       "      <td>******</td>\n",
       "      <td>Chat|981</td>\n",
       "    </tr>\n",
       "    <tr>\n",
       "      <th>153751</th>\n",
       "      <td>******</td>\n",
       "      <td>Chat|fd4</td>\n",
       "    </tr>\n",
       "    <tr>\n",
       "      <th>84197</th>\n",
       "      <td>bro</td>\n",
       "      <td>Chat|fd4</td>\n",
       "    </tr>\n",
       "    <tr>\n",
       "      <th>146217</th>\n",
       "      <td>**** *** ***** ******</td>\n",
       "      <td>Chat|4d3</td>\n",
       "    </tr>\n",
       "    <tr>\n",
       "      <th>18247</th>\n",
       "      <td>Y’all ****** *****</td>\n",
       "      <td>Chat|981</td>\n",
       "    </tr>\n",
       "    <tr>\n",
       "      <th>138269</th>\n",
       "      <td>*****</td>\n",
       "      <td>Chat|981</td>\n",
       "    </tr>\n",
       "    <tr>\n",
       "      <th>65276</th>\n",
       "      <td>lets watch animan</td>\n",
       "      <td>Chat|468</td>\n",
       "    </tr>\n",
       "    <tr>\n",
       "      <th>164801</th>\n",
       "      <td>i love animan</td>\n",
       "      <td>Chat|468</td>\n",
       "    </tr>\n",
       "    <tr>\n",
       "      <th>16539</th>\n",
       "      <td>i need a non jewish partner</td>\n",
       "      <td>Chat|468</td>\n",
       "    </tr>\n",
       "    <tr>\n",
       "      <th>10940</th>\n",
       "      <td>shut up ******</td>\n",
       "      <td>Chat|fd4</td>\n",
       "    </tr>\n",
       "    <tr>\n",
       "      <th>164875</th>\n",
       "      <td>****** cheaters</td>\n",
       "      <td>Chat|fd4</td>\n",
       "    </tr>\n",
       "    <tr>\n",
       "      <th>35016</th>\n",
       "      <td>we still 2 towers left ******</td>\n",
       "      <td>Chat|fd4</td>\n",
       "    </tr>\n",
       "    <tr>\n",
       "      <th>21402</th>\n",
       "      <td>challenger 3?</td>\n",
       "      <td>Chat|468</td>\n",
       "    </tr>\n",
       "  </tbody>\n",
       "</table>\n",
       "</div>"
      ],
      "text/plain": [
       "                              content        type\n",
       "42300                This clan so bad    Chat|5f8\n",
       "3820                       kicked_out  Action|5f8\n",
       "65040                           bitch    Chat|468\n",
       "153376                         ******    Chat|981\n",
       "153751                         ******    Chat|fd4\n",
       "84197                             bro    Chat|fd4\n",
       "146217          **** *** ***** ******    Chat|4d3\n",
       "18247              Y’all ****** *****    Chat|981\n",
       "138269                          *****    Chat|981\n",
       "65276               lets watch animan    Chat|468\n",
       "164801                  i love animan    Chat|468\n",
       "16539     i need a non jewish partner    Chat|468\n",
       "10940                  shut up ******    Chat|fd4\n",
       "164875                ****** cheaters    Chat|fd4\n",
       "35016   we still 2 towers left ******    Chat|fd4\n",
       "21402                   challenger 3?    Chat|468"
      ]
     },
     "execution_count": 46,
     "metadata": {},
     "output_type": "execute_result"
    }
   ],
   "source": [
    "alliance_summary"
   ]
  },
  {
   "cell_type": "code",
   "execution_count": 50,
   "id": "debca443-228f-4f3f-937a-86db343c9003",
   "metadata": {
    "tags": []
   },
   "outputs": [
    {
     "name": "stdout",
     "output_type": "stream",
     "text": [
      "First, summarize the following group chat from the mobile game clash royal:\n",
      "\n",
      "User 5f8 says: This clan so bad\n",
      "User 5f8 was kicked\n",
      "User 468 says: bitch\n",
      "User 981 says: ******\n",
      "User fd4 says: ******\n",
      "User fd4 says: bro\n",
      "User 4d3 says: **** *** ***** ******\n",
      "User 981 says: Y’all ****** *****\n",
      "User 981 says: *****\n",
      "User 468 says: lets watch animan\n",
      "User 468 says: i love animan\n",
      "User 468 says: i need a non jewish partner\n",
      "User fd4 says: shut up ******\n",
      "User fd4 says: ****** cheaters\n",
      "User fd4 says: we still 2 towers left ******\n",
      "User 468 says: challenger 3?\n",
      "\n",
      "Second, take the role of a neutral moderator. List users using inappropriate language.\n"
     ]
    }
   ],
   "source": [
    "prompt = create_chatgpt_prompt(alliance_summary)\n",
    "print(prompt)"
   ]
  },
  {
   "cell_type": "code",
   "execution_count": 54,
   "id": "f2d3a492-273d-43e2-aacb-a38ad0001c0f",
   "metadata": {
    "tags": []
   },
   "outputs": [
    {
     "data": {
      "text/plain": [
       "<Axes: xlabel='risk', ylabel='Count'>"
      ]
     },
     "execution_count": 54,
     "metadata": {},
     "output_type": "execute_result"
    },
    {
     "data": {
      "image/png": "[encoded data removed]",
      "text/plain": [
       "<Figure size 640x480 with 1 Axes>"
      ]
     },
     "metadata": {},
     "output_type": "display_data"
    }
   ],
   "source": [
    "sb.histplot(data.messages.risk)"
   ]
  },
  {
   "cell_type": "code",
   "execution_count": 67,
   "id": "e61c73b6-1186-4a48-943a-fc5dfc4cc03f",
   "metadata": {
    "tags": []
   },
   "outputs": [],
   "source": []
  },
  {
   "cell_type": "code",
   "execution_count": 81,
   "id": "fe55206b-6f2c-4200-9063-f1813fd9f6f0",
   "metadata": {
    "tags": []
   },
   "outputs": [
    {
     "data": {
      "text/plain": [
       "<Axes: xlabel='is_toxic', ylabel='Count'>"
      ]
     },
     "execution_count": 81,
     "metadata": {},
     "output_type": "execute_result"
    },
    {
     "data": {
      "image/png": "[encoded data removed]",
      "text/plain": [
       "<Figure size 640x480 with 1 Axes>"
      ]
     },
     "metadata": {},
     "output_type": "display_data"
    }
   ],
   "source": [
    "msg = data.messages.copy()\n",
    "msg['is_toxic'] = msg.risk > 3\n",
    "groups = msg.groupby('account_id')\n",
    "mask = groups['is_toxic'].count()>10\n",
    "res = groups['is_toxic'].mean()[mask]\n",
    "sb.histplot(res)"
   ]
  },
  {
   "cell_type": "code",
   "execution_count": 84,
   "id": "6a3b4331-aa79-483b-a9ec-db0325b01007",
   "metadata": {
    "tags": []
   },
   "outputs": [],
   "source": []
  },
  {
   "cell_type": "code",
   "execution_count": 127,
   "id": "a31c27ac-e83e-4955-a438-a897a8e4d049",
   "metadata": {
    "tags": []
   },
   "outputs": [
    {
     "data": {
      "text/html": [
       "<div>\n",
       "<style scoped>\n",
       "    .dataframe tbody tr th:only-of-type {\n",
       "        vertical-align: middle;\n",
       "    }\n",
       "\n",
       "    .dataframe tbody tr th {\n",
       "        vertical-align: top;\n",
       "    }\n",
       "\n",
       "    .dataframe thead th {\n",
       "        text-align: right;\n",
       "    }\n",
       "</style>\n",
       "<table border=\"1\" class=\"dataframe\">\n",
       "  <thead>\n",
       "    <tr style=\"text-align: right;\">\n",
       "      <th></th>\n",
       "      <th>moderate_toxic_score</th>\n",
       "      <th>msg_count</th>\n",
       "    </tr>\n",
       "    <tr>\n",
       "      <th>alliance_id</th>\n",
       "      <th></th>\n",
       "      <th></th>\n",
       "    </tr>\n",
       "  </thead>\n",
       "  <tbody>\n",
       "    <tr>\n",
       "      <th>80328c28b8c2d119d352806e35b2317ebfc955f5903b95f362924ab2208c5886</th>\n",
       "      <td>1.0</td>\n",
       "      <td>43</td>\n",
       "    </tr>\n",
       "    <tr>\n",
       "      <th>33f46d19d27b63497cc230693af6cf66998950a6a6d291a25e559b5e97118027</th>\n",
       "      <td>1.0</td>\n",
       "      <td>65</td>\n",
       "    </tr>\n",
       "    <tr>\n",
       "      <th>3e50f449aae2dd7f671ab790e0334a37a0fe382cf90efbe24b504535258900d3</th>\n",
       "      <td>1.0</td>\n",
       "      <td>19</td>\n",
       "    </tr>\n",
       "    <tr>\n",
       "      <th>b94648d10e12ad7a8851fa73525611b49605c22ccc9846ca2f64bb59741300ca</th>\n",
       "      <td>1.0</td>\n",
       "      <td>12</td>\n",
       "    </tr>\n",
       "    <tr>\n",
       "      <th>fec69a368855fb31e40570bd5ef8f2ad89e2d731cb92a9054a8a5c9fbf3eee6c</th>\n",
       "      <td>1.0</td>\n",
       "      <td>28</td>\n",
       "    </tr>\n",
       "    <tr>\n",
       "      <th>...</th>\n",
       "      <td>...</td>\n",
       "      <td>...</td>\n",
       "    </tr>\n",
       "    <tr>\n",
       "      <th>5af0f0e92114d746fb7a2d347989566a9a76cfc4490dc2d928ef72b552b31802</th>\n",
       "      <td>0.0</td>\n",
       "      <td>11</td>\n",
       "    </tr>\n",
       "    <tr>\n",
       "      <th>5aedb8f135d26c52a40e006f77fba0d4aa1584e39b2253f71be089d0457e481f</th>\n",
       "      <td>0.0</td>\n",
       "      <td>13</td>\n",
       "    </tr>\n",
       "    <tr>\n",
       "      <th>5ae49555181d08a32534c971c0e46528673fbe353b79d5292fa7aed17f7aadf4</th>\n",
       "      <td>0.0</td>\n",
       "      <td>34</td>\n",
       "    </tr>\n",
       "    <tr>\n",
       "      <th>5ae1c717144d56891c86a821d52bdb040c5ade597fd87e6cebe15ed04cb4742c</th>\n",
       "      <td>0.0</td>\n",
       "      <td>13</td>\n",
       "    </tr>\n",
       "    <tr>\n",
       "      <th>ffce278b4317b2622df91575a86ee38d44ac8a8ae0c43f73d1735d9cd2ad43de</th>\n",
       "      <td>0.0</td>\n",
       "      <td>207</td>\n",
       "    </tr>\n",
       "  </tbody>\n",
       "</table>\n",
       "<p>6125 rows × 2 columns</p>\n",
       "</div>"
      ],
      "text/plain": [
       "                                                    moderate_toxic_score  \\\n",
       "alliance_id                                                                \n",
       "80328c28b8c2d119d352806e35b2317ebfc955f5903b95f...                   1.0   \n",
       "33f46d19d27b63497cc230693af6cf66998950a6a6d291a...                   1.0   \n",
       "3e50f449aae2dd7f671ab790e0334a37a0fe382cf90efbe...                   1.0   \n",
       "b94648d10e12ad7a8851fa73525611b49605c22ccc9846c...                   1.0   \n",
       "fec69a368855fb31e40570bd5ef8f2ad89e2d731cb92a90...                   1.0   \n",
       "...                                                                  ...   \n",
       "5af0f0e92114d746fb7a2d347989566a9a76cfc4490dc2d...                   0.0   \n",
       "5aedb8f135d26c52a40e006f77fba0d4aa1584e39b2253f...                   0.0   \n",
       "5ae49555181d08a32534c971c0e46528673fbe353b79d52...                   0.0   \n",
       "5ae1c717144d56891c86a821d52bdb040c5ade597fd87e6...                   0.0   \n",
       "ffce278b4317b2622df91575a86ee38d44ac8a8ae0c43f7...                   0.0   \n",
       "\n",
       "                                                    msg_count  \n",
       "alliance_id                                                    \n",
       "80328c28b8c2d119d352806e35b2317ebfc955f5903b95f...         43  \n",
       "33f46d19d27b63497cc230693af6cf66998950a6a6d291a...         65  \n",
       "3e50f449aae2dd7f671ab790e0334a37a0fe382cf90efbe...         19  \n",
       "b94648d10e12ad7a8851fa73525611b49605c22ccc9846c...         12  \n",
       "fec69a368855fb31e40570bd5ef8f2ad89e2d731cb92a90...         28  \n",
       "...                                                       ...  \n",
       "5af0f0e92114d746fb7a2d347989566a9a76cfc4490dc2d...         11  \n",
       "5aedb8f135d26c52a40e006f77fba0d4aa1584e39b2253f...         13  \n",
       "5ae49555181d08a32534c971c0e46528673fbe353b79d52...         34  \n",
       "5ae1c717144d56891c86a821d52bdb040c5ade597fd87e6...         13  \n",
       "ffce278b4317b2622df91575a86ee38d44ac8a8ae0c43f7...        207  \n",
       "\n",
       "[6125 rows x 2 columns]"
      ]
     },
     "execution_count": 127,
     "metadata": {},
     "output_type": "execute_result"
    }
   ],
   "source": [
    "alliance_msg_count = msg.groupby('alliance_id')['account_id'].count()\n",
    "moderate_toxic = res[(res>0.1) & (res<0.3)]\n",
    "msg['is_moderate_toxic'] = msg.account_id.isin(moderate_toxic.index)\n",
    "moderate_toxic_score = msg.groupby('alliance_id')['is_moderate_toxic'].mean()\n",
    "moderate_toxic_res = pd.DataFrame({'moderate_toxic_score':moderate_toxic_score, 'msg_count':alliance_msg_count})\n",
    "moderate_toxic_res[moderate_toxic_res.msg_count>10].sort_values('moderate_toxic_score', ascending=False)"
   ]
  },
  {
   "cell_type": "code",
   "execution_count": 128,
   "id": "0eeea247-335d-4643-b0d5-7e6e0b752414",
   "metadata": {
    "tags": []
   },
   "outputs": [
    {
     "data": {
      "text/plain": [
       "alliance_id\n",
       "250247266c72a0d7c21ca3749ebef8494e97c394e1ffb2c8e97d5305c4ccd46f    1.0\n",
       "245bd29baff8b23095e153baab56c8a0aefad2f2b8e20c910984f398daec970c    1.0\n",
       "fb68058ddd2dc42919bbba3ab445125fb24b10c9faa2030ae789f9397d5411c1    1.0\n",
       "269f7124a19a7e76652e6382f2cb997e5286cb30cda2991f800b9ca92e1903a1    1.0\n",
       "7739f97a707dd502cb7a256714bf84b4e3fd5e1cba8b6cac71bae55553f7a0c4    1.0\n",
       "                                                                   ... \n",
       "5678696de59b4c41044ed439786d2ec41c4d0c06fd78b88750ebf48ee15bea5d    0.0\n",
       "56791fedd462539a2d881ce99b34bfec3629d9f34dff68eadd2da700a19c5915    0.0\n",
       "5679f2cdf0246cf2df9c2ae57657a1dec431030b2d5a1b6eff7b66aad708bcb7    0.0\n",
       "567a50794a76c069e7baa4ea436b0549312e8e0d07076fd11bc3716f837c264b    0.0\n",
       "ffff97e67740333501f8358d3046af52bf077fed2f0fe8af0983af4fead0c249    0.0\n",
       "Name: is_moderate_toxic, Length: 72371, dtype: float64"
      ]
     },
     "execution_count": 128,
     "metadata": {},
     "output_type": "execute_result"
    }
   ],
   "source": [
    "moderate_toxic_groups.sort_values(ascending=False)"
   ]
  },
  {
   "cell_type": "code",
   "execution_count": 124,
   "id": "1c70b3a8-0c66-4655-9eae-4efcd2596d08",
   "metadata": {
    "tags": []
   },
   "outputs": [],
   "source": [
    "tmp = data.messages[data.messages.alliance_id=='33f46d19d27b63497cc230693af6cf66998950a6a6d291a25e559b5e97118027'].risk"
   ]
  },
  {
   "cell_type": "code",
   "execution_count": 126,
   "id": "7fd80006-5438-4f9a-a78f-4199ec45fdf6",
   "metadata": {
    "tags": []
   },
   "outputs": [
    {
     "data": {
      "text/plain": [
       "0.26153846153846155"
      ]
     },
     "execution_count": 126,
     "metadata": {},
     "output_type": "execute_result"
    }
   ],
   "source": [
    "(tmp > 3).mean()"
   ]
  },
  {
   "cell_type": "code",
   "execution_count": 129,
   "id": "43e12f77-4cd0-407a-bfcd-be98664cd70d",
   "metadata": {
    "tags": []
   },
   "outputs": [
    {
     "name": "stdout",
     "output_type": "stream",
     "text": [
      "User: 9a19df7b4c6e0fdf9014 | 0.0$/0.0$ | 3.91h 52.41h | 22.0lvl | since 110 days | risk mean 2.89\n",
      "Action|9a1 join\n",
      "Chat|9a1 *******\n",
      "Chat|9a1 *******\n",
      "Chat|9a1 HAHAHA😂😂\n",
      "Chat|9a1 You noob 😂😂😂😂\n",
      "Chat|9a1 You noob😂😂😂\n",
      "Chat|9a1 You chicken😂\n",
      "Chat|9a1 noob😂\n",
      "Chat|9a1 You ＮＯ skill\n",
      "Chat|9a1 You mother chicken😂\n",
      "Chat|9a1 You From\n",
      "Chat|9a1 You kill\n",
      "Chat|9a1 gun\n",
      "Chat|9a1 You mother You kill\n",
      "Chat|9a1 You From\n",
      "Chat|9a1 You From\n",
      "Chat|9a1 iM gang\n",
      "Chat|9a1 You kill\n",
      "Chat|9a1 You kill\n",
      "Chat|9a1 OK\n",
      "Chat|9a1 kill\n",
      "Chat|9a1 OK\n",
      "Chat|9a1 You kill\n",
      "Chat|9a1 please\n",
      "Chat|9a1 Hey chicken\n",
      "Chat|9a1 You kill\n",
      "Chat|9a1 You mother You kill\n",
      "Chat|9a1 You kill\n",
      "Chat|9a1 noob\n",
      "Chat|9a1 You ＮＯ skill\n",
      "Chat|9a1 You ＮＯskill\n",
      "Chat|9a1 noob\n",
      "Chat|9a1 You Rose\n",
      "Chat|9a1 iM Win\n",
      "Chat|9a1 noob\n",
      "Chat|9a1 HAHAHA😂😂😂\n",
      "Chat|9a1 You ＮＯskill\n",
      "Chat|9a1 HAHAHA😂👏\n",
      "Chat|9a1 HAHAHA😂😂😂\n",
      "Chat|9a1 noob\n",
      "Chat|9a1 You chicken Youmotherchicken\n",
      "Chat|9a1 You Rose😂😂😂😂😂😂\n",
      "Chat|9a1 noob\n",
      "Chat|9a1 noob😂😂😂\n",
      "Action|9a1 leave\n"
     ]
    },
    {
     "name": "stderr",
     "output_type": "stream",
     "text": [
      "/home/tobi/development/start_hack_2023/notebooks/../utils/protocol_creation.py:8: SettingWithCopyWarning: \n",
      "A value is trying to be set on a copy of a slice from a DataFrame.\n",
      "Try using .loc[row_indexer,col_indexer] = value instead\n",
      "\n",
      "See the caveats in the documentation: https://pandas.pydata.org/pandas-docs/stable/user_guide/indexing.html#returning-a-view-versus-a-copy\n",
      "  alliance_messages['content'] = alliance_messages['filtered_message']\n",
      "/home/tobi/development/start_hack_2023/notebooks/../utils/protocol_creation.py:9: SettingWithCopyWarning: \n",
      "A value is trying to be set on a copy of a slice from a DataFrame.\n",
      "Try using .loc[row_indexer,col_indexer] = value instead\n",
      "\n",
      "See the caveats in the documentation: https://pandas.pydata.org/pandas-docs/stable/user_guide/indexing.html#returning-a-view-versus-a-copy\n",
      "  alliance_messages['type'] = \"Chat|\" + alliance_messages['account_id'].str[:3]\n"
     ]
    }
   ],
   "source": [
    "j = summarize_alliance(data, '80328c28b8c2d119d352806e35b2317ebfc955f5903b95f362924ab2208c5886')\n",
    "for i,row in j.iterrows():\n",
    "    print(row.type, row.content)"
   ]
  },
  {
   "cell_type": "code",
   "execution_count": 114,
   "id": "139c13ef-afac-477b-b708-29f8ed5f7919",
   "metadata": {
    "tags": []
   },
   "outputs": [
    {
     "data": {
      "text/html": [
       "<div>\n",
       "<style scoped>\n",
       "    .dataframe tbody tr th:only-of-type {\n",
       "        vertical-align: middle;\n",
       "    }\n",
       "\n",
       "    .dataframe tbody tr th {\n",
       "        vertical-align: top;\n",
       "    }\n",
       "\n",
       "    .dataframe thead th {\n",
       "        text-align: right;\n",
       "    }\n",
       "</style>\n",
       "<table border=\"1\" class=\"dataframe\">\n",
       "  <thead>\n",
       "    <tr style=\"text-align: right;\">\n",
       "      <th></th>\n",
       "      <th>content</th>\n",
       "      <th>type</th>\n",
       "    </tr>\n",
       "  </thead>\n",
       "  <tbody>\n",
       "    <tr>\n",
       "      <th>174038</th>\n",
       "      <td>Imma say the * ****</td>\n",
       "      <td>Chat|774</td>\n",
       "    </tr>\n",
       "    <tr>\n",
       "      <th>54385</th>\n",
       "      <td>you only won bc of a stupid african american</td>\n",
       "      <td>Chat|774</td>\n",
       "    </tr>\n",
       "    <tr>\n",
       "      <th>91799</th>\n",
       "      <td>Chiefing</td>\n",
       "      <td>Chat|9e6</td>\n",
       "    </tr>\n",
       "    <tr>\n",
       "      <th>151387</th>\n",
       "      <td>camper tactic</td>\n",
       "      <td>Chat|774</td>\n",
       "    </tr>\n",
       "    <tr>\n",
       "      <th>24431</th>\n",
       "      <td>you should exist just like that hoder lokking a$$</td>\n",
       "      <td>Chat|774</td>\n",
       "    </tr>\n",
       "    <tr>\n",
       "      <th>...</th>\n",
       "      <td>...</td>\n",
       "      <td>...</td>\n",
       "    </tr>\n",
       "    <tr>\n",
       "      <th>93820</th>\n",
       "      <td>Yes truce</td>\n",
       "      <td>Chat|9e6</td>\n",
       "    </tr>\n",
       "    <tr>\n",
       "      <th>15391</th>\n",
       "      <td>** *****</td>\n",
       "      <td>Chat|774</td>\n",
       "    </tr>\n",
       "    <tr>\n",
       "      <th>73306</th>\n",
       "      <td>** ***** ****</td>\n",
       "      <td>Chat|774</td>\n",
       "    </tr>\n",
       "    <tr>\n",
       "      <th>53512</th>\n",
       "      <td>can * **** *** ****</td>\n",
       "      <td>Chat|774</td>\n",
       "    </tr>\n",
       "    <tr>\n",
       "      <th>30019</th>\n",
       "      <td>alright bye</td>\n",
       "      <td>Chat|774</td>\n",
       "    </tr>\n",
       "  </tbody>\n",
       "</table>\n",
       "<p>65 rows × 2 columns</p>\n",
       "</div>"
      ],
      "text/plain": [
       "                                                  content      type\n",
       "174038                                Imma say the * ****  Chat|774\n",
       "54385        you only won bc of a stupid african american  Chat|774\n",
       "91799                                            Chiefing  Chat|9e6\n",
       "151387                                      camper tactic  Chat|774\n",
       "24431   you should exist just like that hoder lokking a$$  Chat|774\n",
       "...                                                   ...       ...\n",
       "93820                                           Yes truce  Chat|9e6\n",
       "15391                                            ** *****  Chat|774\n",
       "73306                                       ** ***** ****  Chat|774\n",
       "53512                                 can * **** *** ****  Chat|774\n",
       "30019                                         alright bye  Chat|774\n",
       "\n",
       "[65 rows x 2 columns]"
      ]
     },
     "execution_count": 114,
     "metadata": {},
     "output_type": "execute_result"
    }
   ],
   "source": [
    "j"
   ]
  }
 ],
 "metadata": {
  "kernelspec": {
   "display_name": "Python 3 (ipykernel)",
   "language": "python",
   "name": "python3"
  },
  "language_info": {
   "codemirror_mode": {
    "name": "ipython",
    "version": 3
   },
   "file_extension": ".py",
   "mimetype": "text/x-python",
   "name": "python",
   "nbconvert_exporter": "python",
   "pygments_lexer": "ipython3",
   "version": "3.10.8"
  }
 },
 "nbformat": 4,
 "nbformat_minor": 5
}
